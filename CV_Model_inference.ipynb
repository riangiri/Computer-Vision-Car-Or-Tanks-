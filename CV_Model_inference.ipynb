{
  "cells": [
    {
      "cell_type": "markdown",
      "metadata": {
        "id": "vZKAKRpYjads"
      },
      "source": [
        "**Import Libraries**"
      ]
    },
    {
      "cell_type": "code",
      "execution_count": 31,
      "metadata": {
        "id": "T_Z_eyozjcVW"
      },
      "outputs": [],
      "source": [
        "from tensorflow.keras.models import load_model\n",
        "import numpy as np\n",
        "import os\n",
        "import cv2"
      ]
    },
    {
      "cell_type": "markdown",
      "metadata": {
        "id": "RgIj406cjfpO"
      },
      "source": [
        "**Load Model**"
      ]
    },
    {
      "cell_type": "code",
      "execution_count": 32,
      "metadata": {
        "id": "K9gce4T1jfNG"
      },
      "outputs": [],
      "source": [
        "# Load Model\n",
        "model_path = \"Car-tanks-model.h5\" # sesuaikan nama model\n",
        "model = load_model(model_path)"
      ]
    },
    {
      "cell_type": "markdown",
      "metadata": {
        "id": "zSfMLEzvkJWH"
      },
      "source": [
        "**Function Untuk memproses image**"
      ]
    },
    {
      "cell_type": "code",
      "execution_count": 33,
      "metadata": {
        "id": "EX0c5s5nkYEF"
      },
      "outputs": [],
      "source": [
        "def process_image(image, target_size=(255, 255)):\n",
        "    image = cv2.cvtColor(image, cv2.COLOR_BGR2RGB)\n",
        "    image = cv2.resize(image, target_size)\n",
        "    image = image / 255.0\n",
        "    return np.expand_dims(image, axis=0)"
      ]
    },
    {
      "cell_type": "markdown",
      "metadata": {
        "id": "ornKilQAkwzn"
      },
      "source": [
        "**Function Untuk mempredict**"
      ]
    },
    {
      "cell_type": "code",
      "execution_count": 34,
      "metadata": {
        "id": "w1bbXgjyk0vn"
      },
      "outputs": [],
      "source": [
        "def predict(image, model):\n",
        "    preprocess = process_image(image)\n",
        "    prediction = model.predict(preprocess)\n",
        "    if prediction[0, 0] > 0.5:\n",
        "        return \"Tank\"\n",
        "    else:\n",
        "        return \"Car\""
      ]
    },
    {
      "cell_type": "markdown",
      "metadata": {
        "id": "Y6AJ-3DjlMDX"
      },
      "source": [
        "**Path contoh image**"
      ]
    },
    {
      "cell_type": "code",
      "execution_count": 35,
      "metadata": {
        "id": "YN3KEs4zY9s8"
      },
      "outputs": [],
      "source": [
        "# Define path sample gambar untuk diprediksi\n",
        "image = \"fromgoogle5.jpeg\"  # Sesuaikan nama gambar beserta extensunya (contoh nama sample \"fromgoogle5.jpeg\")"
      ]
    },
    {
      "cell_type": "markdown",
      "metadata": {
        "id": "FDxMK9IYqfMG"
      },
      "source": [
        "**Output hasil prediksi**"
      ]
    },
    {
      "cell_type": "code",
      "execution_count": 36,
      "metadata": {
        "colab": {
          "base_uri": "https://localhost:8080/"
        },
        "id": "LDHGG21yqfhX",
        "outputId": "a0fe72a5-0c5a-474d-cbac-14836f3b295c"
      },
      "outputs": [
        {
          "name": "stdout",
          "output_type": "stream",
          "text": [
            "1/1 [==============================] - 0s 81ms/step\n",
            "Hasil prediksi Gambar: Car\n"
          ]
        }
      ],
      "source": [
        "# Output hasil prediksi\n",
        "predicted_class = predict(image, model)\n",
        "print(\"Hasil prediksi Gambar:\", predicted_class)"
      ]
    }
  ],
  "metadata": {
    "colab": {
      "provenance": []
    },
    "kernelspec": {
      "display_name": "Python 3",
      "name": "python3"
    },
    "language_info": {
      "name": "python"
    }
  },
  "nbformat": 4,
  "nbformat_minor": 0
}
